{
 "cells": [
  {
   "cell_type": "code",
   "execution_count": 3,
   "id": "534c5d8c",
   "metadata": {},
   "outputs": [
    {
     "name": "stdout",
     "output_type": "stream",
     "text": [
      "M= 1\n",
      "j= 0\n",
      "j= 1\n",
      "j= 2\n",
      "j= 3\n",
      "j= 4\n",
      "j= 5\n",
      "j= 6\n",
      "j= 7\n",
      "j= 8\n",
      "j= 9\n",
      "j= 10\n",
      "j= 11\n",
      "j= 12\n",
      "j= 13\n",
      "j= 14\n",
      "j= 15\n",
      "j= 16\n",
      "j= 17\n",
      "j= 18\n",
      "j= 19\n"
     ]
    }
   ],
   "source": [
    "# Ejemplo: muestra el método pseudo-espectral aplicado a la ecuación de advección\n",
    "from scipy.integrate import odeint\n",
    "import numpy as np\n",
    "import matplotlib.pyplot as plt\n",
    "import math\n",
    "\n",
    "N=100 # numero de pasos espaciales\n",
    "deltax = 1/N # paso espacial\n",
    "alpha=100 # value of the combination deltat/deltax (en unidades adimensionalizadas)\n",
    "deltat = alpha*deltax #paso temporal\n",
    "M=int(1/deltat) #numero de pasos de modo que la simulacion corra hasta t=1\n",
    "print('M=',M)\n",
    "v0=np.empty(N)\n",
    "v_theo=np.empty(N)\n",
    "x=np.empty(N)\n",
    "\n",
    "for i in range(N):\n",
    "    v0[i] = np.sin(i*2*math.pi/N)\n",
    "    x[i] = i/N\n",
    "\n",
    "def derivada(v,t):\n",
    "    vf = np.fft.fft(v)\n",
    "    freq = np.fft.fftfreq(N, d=1)\n",
    "    return -alpha*np.real(np.fft.ifft(2*np.pi*1j*freq*vf))\n",
    "\n",
    "L = 20\n",
    "t = np.linspace(0,M,L)\n",
    "u = odeint(derivada,v0,t)\n",
    "\n",
    "for j in range(L):\n",
    "    for i in range(N):\n",
    "        v_theo[i] = np.sin(2*math.pi*(i/N-j/(L-1)))\n",
    "    print(\"j=\",j)\n",
    "    plt.figure(figsize=(10,10))\n",
    "    plt.xlabel('$x$')\n",
    "    plt.ylabel('$y$')\n",
    "#        plt.xlim(0.6,0.7)\n",
    "#        plt.ylim(-1.1,1.1)\n",
    "    plt.plot(x,u[j,:],color='blue')#'bo', markersize=1)\n",
    "    plt.plot(x,v_theo,color='red',linestyle='dashed')\n",
    "    plt.tight_layout()\n",
    "    if j < 10:\n",
    "        plt.savefig('test00'+str(j), dpi=None)\n",
    "    else:\n",
    "        if j < 100:\n",
    "            plt.savefig('test0'+str(j), dpi=None)\n",
    "        else:\n",
    "            plt.savefig('test'+str(count), dpi=None)\n",
    "    plt.close()"
   ]
  },
  {
   "cell_type": "code",
   "execution_count": null,
   "id": "d40f86a4",
   "metadata": {},
   "outputs": [],
   "source": []
  },
  {
   "cell_type": "code",
   "execution_count": null,
   "id": "29702424",
   "metadata": {},
   "outputs": [],
   "source": []
  },
  {
   "cell_type": "code",
   "execution_count": null,
   "id": "9ad57a31",
   "metadata": {},
   "outputs": [],
   "source": []
  }
 ],
 "metadata": {
  "kernelspec": {
   "display_name": "Python 3 (ipykernel)",
   "language": "python",
   "name": "python3"
  },
  "language_info": {
   "codemirror_mode": {
    "name": "ipython",
    "version": 3
   },
   "file_extension": ".py",
   "mimetype": "text/x-python",
   "name": "python",
   "nbconvert_exporter": "python",
   "pygments_lexer": "ipython3",
   "version": "3.12.2"
  }
 },
 "nbformat": 4,
 "nbformat_minor": 5
}
